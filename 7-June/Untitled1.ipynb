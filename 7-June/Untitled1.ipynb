{
 "cells": [
  {
   "cell_type": "code",
   "execution_count": 1,
   "id": "68215644-fab9-48ad-98d8-0db70c79ef06",
   "metadata": {},
   "outputs": [],
   "source": [
    "import pickle\n"
   ]
  },
  {
   "cell_type": "code",
   "execution_count": 3,
   "id": "146ae6bf-8586-45bf-bef6-62cca3c0d6a2",
   "metadata": {},
   "outputs": [],
   "source": [
    "with open('model_pickle', 'rb') as file:\n",
    "    model = pickle.load(file)"
   ]
  },
  {
   "cell_type": "code",
   "execution_count": 4,
   "id": "35253e8d-5d1c-4b4b-990a-130bf8f7a778",
   "metadata": {},
   "outputs": [
    {
     "data": {
      "text/plain": [
       "array([6800.])"
      ]
     },
     "execution_count": 4,
     "metadata": {},
     "output_type": "execute_result"
    }
   ],
   "source": [
    "model.coef_"
   ]
  },
  {
   "cell_type": "code",
   "execution_count": 5,
   "id": "8142d02c-09e0-4c15-9d95-cffb3f24416c",
   "metadata": {},
   "outputs": [
    {
     "data": {
      "text/plain": [
       "-2819999.999999998"
      ]
     },
     "execution_count": 5,
     "metadata": {},
     "output_type": "execute_result"
    }
   ],
   "source": [
    "model.intercept_"
   ]
  },
  {
   "cell_type": "code",
   "execution_count": 6,
   "id": "79e5783b-3d57-416d-97b9-d0bb18b2c2d1",
   "metadata": {},
   "outputs": [
    {
     "name": "stderr",
     "output_type": "stream",
     "text": [
      "C:\\Users\\Prinshi\\AppData\\Roaming\\Python\\Python311\\site-packages\\sklearn\\base.py:465: UserWarning: X does not have valid feature names, but LinearRegression was fitted with feature names\n",
      "  warnings.warn(\n"
     ]
    },
    {
     "data": {
      "text/plain": [
       "array([7380000.])"
      ]
     },
     "execution_count": 6,
     "metadata": {},
     "output_type": "execute_result"
    }
   ],
   "source": [
    "model.predict([[1500]])"
   ]
  },
  {
   "cell_type": "code",
   "execution_count": null,
   "id": "1400823a-9933-4a23-af25-ef58038faa28",
   "metadata": {},
   "outputs": [],
   "source": []
  }
 ],
 "metadata": {
  "kernelspec": {
   "display_name": "Python 3 (ipykernel)",
   "language": "python",
   "name": "python3"
  },
  "language_info": {
   "codemirror_mode": {
    "name": "ipython",
    "version": 3
   },
   "file_extension": ".py",
   "mimetype": "text/x-python",
   "name": "python",
   "nbconvert_exporter": "python",
   "pygments_lexer": "ipython3",
   "version": "3.11.9"
  }
 },
 "nbformat": 4,
 "nbformat_minor": 5
}
