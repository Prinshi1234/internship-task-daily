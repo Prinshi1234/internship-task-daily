{
 "cells": [
  {
   "cell_type": "code",
   "execution_count": 4,
   "id": "af9daf03-8a2f-40e8-9476-73566f75f22e",
   "metadata": {},
   "outputs": [],
   "source": [
    "import joblib"
   ]
  },
  {
   "cell_type": "code",
   "execution_count": 5,
   "id": "ab0ac75c-d221-42d2-b189-60f1a77a9afd",
   "metadata": {},
   "outputs": [],
   "source": [
    "model = joblib.load('mj')"
   ]
  },
  {
   "cell_type": "code",
   "execution_count": 6,
   "id": "c94cd769-d66e-43e3-8289-77bfe1c007a3",
   "metadata": {},
   "outputs": [
    {
     "data": {
      "text/plain": [
       "array([6800.])"
      ]
     },
     "execution_count": 6,
     "metadata": {},
     "output_type": "execute_result"
    }
   ],
   "source": [
    "model.coef_"
   ]
  }
 ],
 "metadata": {
  "kernelspec": {
   "display_name": "Python 3 (ipykernel)",
   "language": "python",
   "name": "python3"
  },
  "language_info": {
   "codemirror_mode": {
    "name": "ipython",
    "version": 3
   },
   "file_extension": ".py",
   "mimetype": "text/x-python",
   "name": "python",
   "nbconvert_exporter": "python",
   "pygments_lexer": "ipython3",
   "version": "3.11.9"
  }
 },
 "nbformat": 4,
 "nbformat_minor": 5
}
