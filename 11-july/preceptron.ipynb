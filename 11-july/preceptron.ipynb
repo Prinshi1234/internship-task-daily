{
 "cells": [
  {
   "cell_type": "code",
   "execution_count": 1,
   "id": "a5b685c3-026e-4321-9bad-e193de61abf0",
   "metadata": {},
   "outputs": [],
   "source": [
    "import numpy as np"
   ]
  },
  {
   "cell_type": "code",
   "execution_count": 2,
   "id": "d1b61676-90fd-4690-ac06-9d4086f09c17",
   "metadata": {},
   "outputs": [],
   "source": [
    "def sigmoid(x):\n",
    "    return (1/(1+np.exp(-x)))\n",
    "    "
   ]
  },
  {
   "cell_type": "code",
   "execution_count": 3,
   "id": "77ae4dde-d4f9-4ab5-92ed-896e706635cf",
   "metadata": {},
   "outputs": [],
   "source": [
    "input = np.array([\n",
    "    [1,0,1],\n",
    "    [1,1,1],\n",
    "    [0,1,1],\n",
    "    [0,0,1],\n",
    "])"
   ]
  },
  {
   "cell_type": "code",
   "execution_count": 4,
   "id": "fc6c22bd-dd3a-43c4-8626-5dc80aada477",
   "metadata": {},
   "outputs": [
    {
     "data": {
      "text/plain": [
       "array([[1],\n",
       "       [1],\n",
       "       [0],\n",
       "       [0]])"
      ]
     },
     "execution_count": 4,
     "metadata": {},
     "output_type": "execute_result"
    }
   ],
   "source": [
    "t_output = np.array([[1,1,0,0]]).T\n",
    "t_output"
   ]
  },
  {
   "cell_type": "code",
   "execution_count": 5,
   "id": "9d7d564a-713d-4ed4-8be8-6dd4307b48e5",
   "metadata": {},
   "outputs": [
    {
     "data": {
      "text/plain": [
       "array([[1],\n",
       "       [1],\n",
       "       [0],\n",
       "       [0]])"
      ]
     },
     "execution_count": 5,
     "metadata": {},
     "output_type": "execute_result"
    }
   ],
   "source": [
    "t_out = np.array([\n",
    "       [1],\n",
    "       [1],\n",
    "       [0],\n",
    "       [0]\n",
    "                 ])\n",
    "t_out"
   ]
  },
  {
   "cell_type": "code",
   "execution_count": 6,
   "id": "ad331fb9-9738-45d4-8f38-6153a51a75fe",
   "metadata": {},
   "outputs": [
    {
     "data": {
      "text/plain": [
       "array([[-0.41079594],\n",
       "       [-0.98933589],\n",
       "       [ 0.131338  ]])"
      ]
     },
     "execution_count": 6,
     "metadata": {},
     "output_type": "execute_result"
    }
   ],
   "source": [
    "weights = 2*np.random.random((3,1)) -1\n",
    "weights"
   ]
  },
  {
   "cell_type": "code",
   "execution_count": 7,
   "id": "7141a20c-1469-47ed-b83d-8369e15b8bb0",
   "metadata": {},
   "outputs": [],
   "source": [
    "def s_der(x):\n",
    "    return (x*(1-x))"
   ]
  },
  {
   "cell_type": "code",
   "execution_count": 8,
   "id": "86136e1b-4e1b-4c6c-ac68-f674bdc4cdfb",
   "metadata": {},
   "outputs": [],
   "source": [
    "# for iter in range(1):\n",
    "for i in range(10000):\n",
    "    output = sigmoid(np.dot(input, weights))\n",
    "    error = t_output-output\n",
    "    upd = error*s_der(output)\n",
    "    weights+= np.dot(input.T, upd)"
   ]
  },
  {
   "cell_type": "code",
   "execution_count": 9,
   "id": "1c3a9222-66f9-4cd0-a7d3-b27c60782c9f",
   "metadata": {},
   "outputs": [
    {
     "data": {
      "text/plain": [
       "array([[0.9935922 ],\n",
       "       [0.99211497],\n",
       "       [0.00786277],\n",
       "       [0.00967216]])"
      ]
     },
     "execution_count": 9,
     "metadata": {},
     "output_type": "execute_result"
    }
   ],
   "source": [
    "output"
   ]
  },
  {
   "cell_type": "code",
   "execution_count": 10,
   "id": "38adec4b-cc73-4cfd-bc0b-b0606eb57d6b",
   "metadata": {},
   "outputs": [
    {
     "data": {
      "text/plain": [
       "array([[1.],\n",
       "       [1.],\n",
       "       [0.],\n",
       "       [0.]])"
      ]
     },
     "execution_count": 10,
     "metadata": {},
     "output_type": "execute_result"
    }
   ],
   "source": [
    "np.round(output)"
   ]
  },
  {
   "cell_type": "code",
   "execution_count": 11,
   "id": "b1bf7511-c8f7-43a0-82f1-cb3d8f824a51",
   "metadata": {},
   "outputs": [
    {
     "data": {
      "text/plain": [
       "1.0"
      ]
     },
     "execution_count": 11,
     "metadata": {},
     "output_type": "execute_result"
    }
   ],
   "source": [
    " sigmoid(63245672121476)"
   ]
  },
  {
   "cell_type": "code",
   "execution_count": null,
   "id": "c8412c13-2a6c-4d43-a943-db256af03fba",
   "metadata": {},
   "outputs": [],
   "source": [
    "output = sigmoid(input)\n",
    "out_\n",
    "error = out-output_t"
   ]
  },
  {
   "cell_type": "code",
   "execution_count": null,
   "id": "5fb954ba-2b33-4826-b311-2bf5aef56fed",
   "metadata": {},
   "outputs": [],
   "source": []
  },
  {
   "cell_type": "code",
   "execution_count": null,
   "id": "bcbeae7f-0252-4064-a752-e4bc70665d74",
   "metadata": {},
   "outputs": [],
   "source": []
  }
 ],
 "metadata": {
  "kernelspec": {
   "display_name": "Python 3 (ipykernel)",
   "language": "python",
   "name": "python3"
  },
  "language_info": {
   "codemirror_mode": {
    "name": "ipython",
    "version": 3
   },
   "file_extension": ".py",
   "mimetype": "text/x-python",
   "name": "python",
   "nbconvert_exporter": "python",
   "pygments_lexer": "ipython3",
   "version": "3.11.9"
  }
 },
 "nbformat": 4,
 "nbformat_minor": 5
}
