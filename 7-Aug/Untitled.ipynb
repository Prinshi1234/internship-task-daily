{
 "cells": [
  {
   "cell_type": "code",
   "execution_count": null,
   "id": "5dfd54be-2eed-4c25-9eff-3513029dfce5",
   "metadata": {},
   "outputs": [],
   "source": [
    "import nltk\n",
    "from nltk.tokenize import word_tokenize"
   ]
  },
  {
   "cell_type": "code",
   "execution_count": 29,
   "id": "42735287-ec84-4c42-b75b-efeb1a433300",
   "metadata": {},
   "outputs": [
    {
     "name": "stdout",
     "output_type": "stream",
     "text": [
      "['Hello', ',', 'how', 'are', 'you', 'doing', '?']\n"
     ]
    },
    {
     "name": "stderr",
     "output_type": "stream",
     "text": [
      "[nltk_data] Downloading package punkt to\n",
      "[nltk_data]     C:\\Users\\Prinshi\\AppData\\Roaming\\nltk_data...\n",
      "[nltk_data]   Package punkt is already up-to-date!\n"
     ]
    }
   ],
   "source": [
    "nltk.download('punkt')\n",
    "text = \"Hello, how are you doing?\"\n",
    "tokens = word_tokenize(text)\n",
    "print(tokens)"
   ]
  },
  {
   "cell_type": "code",
   "execution_count": 30,
   "id": "a2d5981d-16e0-4d8a-8477-b440823ce3d6",
   "metadata": {},
   "outputs": [],
   "source": [
    "from textblob import TextBlob"
   ]
  },
  {
   "cell_type": "code",
   "execution_count": 34,
   "id": "ff0729ec-1583-4b57-bcb6-01213754679c",
   "metadata": {},
   "outputs": [
    {
     "name": "stdout",
     "output_type": "stream",
     "text": [
      "0.5\n"
     ]
    }
   ],
   "source": [
    "text = \"I love using this product. It's fantastic!\"\n",
    "blob = TextBlob(text)\n",
    "sentiment = blob.sentiment.polarity\n",
    "print(sentiment)"
   ]
  },
  {
   "cell_type": "code",
   "execution_count": 35,
   "id": "862911d0-e1c4-4c78-830c-94016d3ac2e9",
   "metadata": {},
   "outputs": [],
   "source": [
    "import gensim\n",
    "from gensim import corpora"
   ]
  },
  {
   "cell_type": "code",
   "execution_count": 36,
   "id": "749c172b-d777-435a-8fe7-5f9b52005e5b",
   "metadata": {},
   "outputs": [],
   "source": [
    "documents = [\"Human machine interface for lab abc computer applications\",\n",
    "             \"A survey of user opinion of computer system response time\",\n",
    "             ...]"
   ]
  },
  {
   "cell_type": "code",
   "execution_count": 40,
   "id": "01c5499b-6549-4518-a383-76608184b721",
   "metadata": {},
   "outputs": [
    {
     "name": "stdout",
     "output_type": "stream",
     "text": [
      "[(0, '0.149*\"the\" + 0.085*\"Obama\" + 0.085*\"of\"'), (1, '0.114*\"Natural\" + 0.114*\"is\" + 0.114*\"fascinating.\"'), (2, '0.098*\"for\" + 0.098*\"great\" + 0.098*\"NLP.\"')]\n"
     ]
    }
   ],
   "source": [
    "from gensim import corpora\n",
    "import gensim\n",
    "\n",
    "# Ensure documents is a list of strings\n",
    "documents = [\n",
    "    \"Barack Obama was the president of the United States.\",\n",
    "    \"Natural language processing is fascinating.\",\n",
    "    \"Stanford CoreNLP provides great tools for NLP.\"\n",
    "]\n",
    "\n",
    "# Split each document into a list of words\n",
    "texts = [doc.split() for doc in documents]\n",
    "\n",
    "# Create a dictionary representation of the documents\n",
    "dictionary = corpora.Dictionary(texts)\n",
    "\n",
    "# Convert document into the bag-of-words (BoW) format\n",
    "corpus = [dictionary.doc2bow(text) for text in texts]\n",
    "\n",
    "# Create the LDA model\n",
    "lda = gensim.models.LdaModel(corpus, num_topics=3, id2word=dictionary, passes=15)\n",
    "\n",
    "# Print the topics\n",
    "print(lda.print_topics(num_topics=3, num_words=3))\n"
   ]
  },
  {
   "cell_type": "code",
   "execution_count": 41,
   "id": "f84c9b09-5678-4da7-b135-bc51de8b73eb",
   "metadata": {},
   "outputs": [],
   "source": [
    "import spacy"
   ]
  },
  {
   "cell_type": "code",
   "execution_count": 42,
   "id": "a75ec104-e0db-497e-8b9d-aed2b5f1c8e2",
   "metadata": {},
   "outputs": [
    {
     "name": "stdout",
     "output_type": "stream",
     "text": [
      "The --> det\n",
      "cat --> nsubj\n",
      "chased --> ROOT\n",
      "the --> det\n",
      "mouse --> dobj\n"
     ]
    }
   ],
   "source": [
    "nlp = spacy.load(\"en_core_web_sm\")\n",
    "sentence = \"The cat chased the mouse\"\n",
    "doc = nlp(sentence)\n",
    "for token in doc:\n",
    "    print(token.text, \"-->\", token.dep_)"
   ]
  },
  {
   "cell_type": "code",
   "execution_count": 53,
   "id": "a55267ee-6a22-42e2-a8e8-d1320f865e3c",
   "metadata": {},
   "outputs": [],
   "source": [
    "from sklearn.feature_extraction.text import TfidfVectorizer\n",
    "from sklearn.svm import SVC\n",
    "from sklearn.pipeline import make_pipeline"
   ]
  },
  {
   "cell_type": "code",
   "execution_count": 54,
   "id": "4c7ef0df-867c-4669-b02e-89d0e1a19050",
   "metadata": {},
   "outputs": [],
   "source": [
    "from transformers import BertTokenizer, BertModel\n",
    "import torch"
   ]
  },
  {
   "cell_type": "code",
   "execution_count": 55,
   "id": "4e6a0d65-af8a-4bb8-9f09-c853100e0f24",
   "metadata": {},
   "outputs": [
    {
     "name": "stderr",
     "output_type": "stream",
     "text": [
      "A parameter name that contains `beta` will be renamed internally to `bias`. Please use a different name to suppress this warning.\n",
      "A parameter name that contains `gamma` will be renamed internally to `weight`. Please use a different name to suppress this warning.\n",
      "A parameter name that contains `beta` will be renamed internally to `bias`. Please use a different name to suppress this warning.\n",
      "A parameter name that contains `gamma` will be renamed internally to `weight`. Please use a different name to suppress this warning.\n",
      "A parameter name that contains `beta` will be renamed internally to `bias`. Please use a different name to suppress this warning.\n",
      "A parameter name that contains `gamma` will be renamed internally to `weight`. Please use a different name to suppress this warning.\n",
      "A parameter name that contains `beta` will be renamed internally to `bias`. Please use a different name to suppress this warning.\n",
      "A parameter name that contains `gamma` will be renamed internally to `weight`. Please use a different name to suppress this warning.\n",
      "A parameter name that contains `beta` will be renamed internally to `bias`. Please use a different name to suppress this warning.\n",
      "A parameter name that contains `gamma` will be renamed internally to `weight`. Please use a different name to suppress this warning.\n",
      "A parameter name that contains `beta` will be renamed internally to `bias`. Please use a different name to suppress this warning.\n",
      "A parameter name that contains `gamma` will be renamed internally to `weight`. Please use a different name to suppress this warning.\n",
      "A parameter name that contains `beta` will be renamed internally to `bias`. Please use a different name to suppress this warning.\n",
      "A parameter name that contains `gamma` will be renamed internally to `weight`. Please use a different name to suppress this warning.\n",
      "A parameter name that contains `beta` will be renamed internally to `bias`. Please use a different name to suppress this warning.\n",
      "A parameter name that contains `gamma` will be renamed internally to `weight`. Please use a different name to suppress this warning.\n",
      "A parameter name that contains `beta` will be renamed internally to `bias`. Please use a different name to suppress this warning.\n",
      "A parameter name that contains `gamma` will be renamed internally to `weight`. Please use a different name to suppress this warning.\n",
      "A parameter name that contains `beta` will be renamed internally to `bias`. Please use a different name to suppress this warning.\n",
      "A parameter name that contains `gamma` will be renamed internally to `weight`. Please use a different name to suppress this warning.\n",
      "A parameter name that contains `beta` will be renamed internally to `bias`. Please use a different name to suppress this warning.\n",
      "A parameter name that contains `gamma` will be renamed internally to `weight`. Please use a different name to suppress this warning.\n",
      "A parameter name that contains `beta` will be renamed internally to `bias`. Please use a different name to suppress this warning.\n",
      "A parameter name that contains `gamma` will be renamed internally to `weight`. Please use a different name to suppress this warning.\n",
      "A parameter name that contains `beta` will be renamed internally to `bias`. Please use a different name to suppress this warning.\n",
      "A parameter name that contains `gamma` will be renamed internally to `weight`. Please use a different name to suppress this warning.\n",
      "A parameter name that contains `beta` will be renamed internally to `bias`. Please use a different name to suppress this warning.\n",
      "A parameter name that contains `gamma` will be renamed internally to `weight`. Please use a different name to suppress this warning.\n",
      "A parameter name that contains `beta` will be renamed internally to `bias`. Please use a different name to suppress this warning.\n",
      "A parameter name that contains `gamma` will be renamed internally to `weight`. Please use a different name to suppress this warning.\n",
      "A parameter name that contains `beta` will be renamed internally to `bias`. Please use a different name to suppress this warning.\n",
      "A parameter name that contains `gamma` will be renamed internally to `weight`. Please use a different name to suppress this warning.\n",
      "A parameter name that contains `beta` will be renamed internally to `bias`. Please use a different name to suppress this warning.\n",
      "A parameter name that contains `gamma` will be renamed internally to `weight`. Please use a different name to suppress this warning.\n",
      "A parameter name that contains `beta` will be renamed internally to `bias`. Please use a different name to suppress this warning.\n",
      "A parameter name that contains `gamma` will be renamed internally to `weight`. Please use a different name to suppress this warning.\n",
      "A parameter name that contains `beta` will be renamed internally to `bias`. Please use a different name to suppress this warning.\n",
      "A parameter name that contains `gamma` will be renamed internally to `weight`. Please use a different name to suppress this warning.\n",
      "A parameter name that contains `beta` will be renamed internally to `bias`. Please use a different name to suppress this warning.\n",
      "A parameter name that contains `gamma` will be renamed internally to `weight`. Please use a different name to suppress this warning.\n",
      "A parameter name that contains `beta` will be renamed internally to `bias`. Please use a different name to suppress this warning.\n",
      "A parameter name that contains `gamma` will be renamed internally to `weight`. Please use a different name to suppress this warning.\n",
      "A parameter name that contains `beta` will be renamed internally to `bias`. Please use a different name to suppress this warning.\n",
      "A parameter name that contains `gamma` will be renamed internally to `weight`. Please use a different name to suppress this warning.\n",
      "A parameter name that contains `beta` will be renamed internally to `bias`. Please use a different name to suppress this warning.\n",
      "A parameter name that contains `gamma` will be renamed internally to `weight`. Please use a different name to suppress this warning.\n",
      "A parameter name that contains `beta` will be renamed internally to `bias`. Please use a different name to suppress this warning.\n",
      "A parameter name that contains `gamma` will be renamed internally to `weight`. Please use a different name to suppress this warning.\n",
      "A parameter name that contains `beta` will be renamed internally to `bias`. Please use a different name to suppress this warning.\n",
      "A parameter name that contains `gamma` will be renamed internally to `weight`. Please use a different name to suppress this warning.\n",
      "A parameter name that contains `beta` will be renamed internally to `bias`. Please use a different name to suppress this warning.\n",
      "A parameter name that contains `gamma` will be renamed internally to `weight`. Please use a different name to suppress this warning.\n"
     ]
    }
   ],
   "source": [
    "tokenizer = BertTokenizer.from_pretrained('bert-base-uncased')\n",
    "model = BertModel.from_pretrained(\"bert-base-uncased\")"
   ]
  },
  {
   "cell_type": "code",
   "execution_count": 56,
   "id": "32453600-493f-4425-b0c7-203c121d73a7",
   "metadata": {},
   "outputs": [
    {
     "name": "stdout",
     "output_type": "stream",
     "text": [
      "tensor([[ 6.1567e-01,  1.9332e-02, -1.5932e-01,  1.4564e-01,  2.3157e-01,\n",
      "         -6.7799e-01,  3.1471e-01,  5.7741e-01, -1.5036e-01, -3.2838e-01,\n",
      "          1.9414e-01, -4.9269e-01, -8.4917e-02,  4.7892e-01, -4.0396e-01,\n",
      "         -1.0605e-01, -2.6022e-01,  2.1382e-01,  7.5642e-02,  3.4413e-01,\n",
      "          3.2916e-02, -1.7241e-01, -4.1208e-03,  2.1923e-01,  2.6813e-01,\n",
      "         -1.6110e-01, -1.4636e-01,  3.3022e-02,  2.7150e-02, -1.1719e-01,\n",
      "          1.4868e-01,  1.6975e-01,  1.0013e-01,  7.4800e-02, -1.9620e-01,\n",
      "         -1.0436e-01, -3.5801e-01,  4.4453e-02, -3.7246e-01, -1.5896e-01,\n",
      "         -4.8127e-01, -5.4471e-01,  2.4125e-01,  1.5255e-01, -9.4811e-02,\n",
      "         -4.0483e-01, -1.9780e-01, -1.3423e-01,  6.7088e-02, -2.7246e-01,\n",
      "          3.2713e-01,  7.8723e-02, -3.1125e-01,  1.3526e-01,  1.5851e-01,\n",
      "          5.3644e-01, -3.7605e-01, -3.6336e-01, -7.5914e-02, -2.8274e-02,\n",
      "         -8.6208e-02,  6.4535e-02, -4.3906e-02, -6.1880e-01,  5.1094e-02,\n",
      "          1.1589e-01,  1.5263e-01,  2.8569e-01, -2.1657e-01, -1.9828e-01,\n",
      "         -2.1734e-01, -1.8618e-01, -6.9131e-03,  2.0343e-02, -2.6870e-01,\n",
      "         -9.0043e-02, -3.5640e-01,  2.4784e-01,  1.1665e-01, -2.2615e-01,\n",
      "          1.0334e-01,  6.5447e-01,  2.2471e-02,  5.5867e-01, -9.9963e-02,\n",
      "          4.5234e-01, -3.1990e-01, -3.0945e-01, -2.5532e-01,  5.1874e-01,\n",
      "         -3.1563e-01, -2.1941e-01,  7.9416e-02,  4.8094e-01,  7.8541e-01,\n",
      "         -7.5711e-02, -9.7277e-02, -2.4342e-01, -4.3749e-01,  1.9923e-01,\n",
      "          1.7647e-01, -2.9730e-02,  7.8033e-02,  7.3549e-02,  5.5776e-02,\n",
      "         -4.7512e-02,  2.9932e-01, -1.3754e-01,  4.4039e-01, -2.1510e-01,\n",
      "          3.8740e-01, -2.1447e-01,  3.0017e-02, -2.5596e-01, -4.6454e-01,\n",
      "          6.0227e-01,  6.3353e-01, -1.3697e-01,  2.4180e-01,  4.4994e-02,\n",
      "         -3.5886e-01, -2.6148e-01,  2.3712e-01,  1.2173e+00, -1.4770e-02,\n",
      "          3.5673e-02, -1.7754e-01, -8.6822e-02, -7.7883e-02, -2.0856e-01,\n",
      "         -4.8389e-02,  4.4723e-01,  4.4607e-01, -4.0858e-01, -2.3352e-01,\n",
      "          1.1668e-01, -4.4390e-02, -1.9562e-01, -4.8267e-01,  1.4496e-01,\n",
      "          1.9968e-01,  3.2352e-01, -1.9060e-01,  9.8358e-03,  1.9776e-01,\n",
      "         -1.5533e-01, -2.5024e-01,  1.3930e-01, -8.6412e-02, -2.9035e-01,\n",
      "          5.2571e-02, -2.9555e-01, -3.2443e-01, -5.5579e-01,  8.8567e-02,\n",
      "         -3.8295e-01, -3.0049e-01,  5.3978e-02,  5.5150e-01,  2.4225e-01,\n",
      "         -1.0738e-01, -2.4775e-01, -2.5263e-01,  1.4260e-01, -6.4184e-01,\n",
      "          1.6897e-01,  3.7840e-01,  4.8421e-01, -2.5649e-03,  2.5229e-01,\n",
      "         -2.6410e-02,  5.2281e-02,  6.8853e-01,  5.4259e-01,  3.7372e-01,\n",
      "         -1.4863e-01,  3.6289e-01,  2.1182e-01, -4.7284e-03,  2.2426e-01,\n",
      "         -1.4651e+00,  3.5942e-01,  1.9441e-01, -7.1842e-02,  3.2623e-01,\n",
      "         -2.3369e-01,  2.8471e-01, -3.2438e-01, -2.2865e-01, -8.6659e-02,\n",
      "          6.9156e-02,  1.6148e-02,  7.2540e-03, -3.1838e-02,  2.6783e-01,\n",
      "         -1.5917e-01,  5.5163e-02, -2.9646e-01,  1.1048e-01, -2.6365e-02,\n",
      "          2.6176e-01, -7.4708e-02,  2.6470e-01,  5.1603e-01, -3.5229e-01,\n",
      "          6.0610e-01,  1.3384e-01, -1.7438e-01,  1.2914e-01, -2.8680e-01,\n",
      "         -2.1296e-01,  4.1604e-01, -9.5553e-02, -2.1884e-01,  2.6657e-02,\n",
      "         -5.7749e-02,  5.3256e-02,  1.2284e-01, -3.8332e-01, -3.2581e-01,\n",
      "          3.6714e-01, -4.9917e-02, -3.2318e-01,  9.1368e-03, -6.8559e-02,\n",
      "          3.2406e-01,  3.3017e-01,  3.5881e-02, -1.0519e-02,  5.0474e-02,\n",
      "         -1.1306e-01, -2.5920e-01,  1.5665e-01,  6.6805e-02, -3.0350e-01,\n",
      "         -3.5801e-01, -3.3851e-01, -4.2981e-01,  1.4972e-01, -9.6908e-02,\n",
      "         -3.4908e-01,  4.0211e-01,  5.1911e-01,  1.6201e-01,  2.6493e-01,\n",
      "         -1.6975e-02,  3.6240e-01,  9.4961e-02,  3.5856e-01, -1.8848e-01,\n",
      "         -2.8511e-01, -7.4896e-01,  1.4928e-01, -3.7542e-01,  3.1767e-01,\n",
      "         -1.7176e-01, -2.6564e-01,  1.8304e-01, -6.5078e-02,  1.3753e-01,\n",
      "          7.0845e-01, -2.3651e-01,  6.7641e-01,  3.8203e-02, -1.7729e-01,\n",
      "         -5.1034e-01, -9.9743e-03,  4.3177e-01,  1.8143e-01,  3.4152e-01,\n",
      "          1.9687e-01,  7.5723e-02,  4.3733e-01, -4.2385e-01,  2.9835e-01,\n",
      "         -6.7995e-01,  4.0724e-01,  1.2844e-02,  3.4856e-01, -1.8147e-01,\n",
      "          8.3175e-02,  7.6587e-01, -8.1165e-01,  9.3678e-03,  6.7009e-02,\n",
      "         -1.5976e-01, -6.0571e-03, -1.7284e-01,  1.0974e-01, -5.1785e-01,\n",
      "         -3.4532e-01, -1.9244e-01, -4.7992e-01, -3.6364e-01,  2.4947e-01,\n",
      "         -2.4295e-01,  3.6877e-01, -1.2465e-02, -1.7171e-01, -1.0259e-01,\n",
      "         -1.6451e-01, -3.6941e-02, -7.3399e-02,  6.6603e-02, -4.1195e-01,\n",
      "         -5.4613e-02,  1.3650e-01, -5.1212e-01, -2.4889e+00, -1.4792e-01,\n",
      "         -1.2417e-01, -3.0102e-01,  2.8895e-01, -1.1725e-01,  2.4055e-01,\n",
      "          1.3115e-01, -6.6371e-01, -1.8009e-02,  4.5755e-01, -1.7305e-01,\n",
      "          2.1111e-01,  3.9123e-01, -4.5735e-01, -3.2831e-01,  2.1197e-01,\n",
      "         -1.9237e-01, -2.0773e-01,  4.3930e-01,  3.6255e-02, -4.3270e-01,\n",
      "         -1.6817e-03, -4.5929e-01,  6.6877e-01, -8.1259e-02, -2.3745e-01,\n",
      "          1.5326e-01, -3.4908e-01,  3.1941e-01, -1.5338e-01, -3.2457e-01,\n",
      "         -3.6539e-01,  1.2292e-01,  6.9962e-02, -2.8816e-01,  1.0122e-01,\n",
      "         -6.8863e-02,  2.7015e-02, -1.8292e-01,  3.3469e-01, -1.9145e-01,\n",
      "          1.8416e-01, -2.5485e-02,  7.7361e-01, -5.8251e-01,  4.6873e-02,\n",
      "          5.3834e-02,  2.4589e-02, -2.5421e-01,  5.0673e-01, -1.1861e-01,\n",
      "          3.4511e-01, -1.8523e-01,  3.2657e-03, -3.3638e-01,  3.1746e-01,\n",
      "          8.3995e-01, -1.7038e-01, -1.2635e-01,  4.0140e-01, -1.2120e-01,\n",
      "         -1.2698e-01,  3.5402e-01, -8.4102e-02, -6.2860e-02, -5.2577e-01,\n",
      "         -3.0708e-01, -1.0618e-01, -4.3965e-02, -1.1504e-01, -2.8706e-02,\n",
      "         -6.6800e-01, -1.1907e+00, -1.6428e-01, -1.8926e-01,  1.5424e-02,\n",
      "          1.1978e-01,  3.1277e-01, -1.3833e-01, -2.4502e-01, -2.8979e-01,\n",
      "         -3.3943e-01, -4.0579e-02,  3.8640e-02, -1.9040e-01, -4.9619e-02,\n",
      "         -1.7703e-01,  1.9536e-01, -4.4508e-01,  2.5607e-01,  2.6170e-01,\n",
      "          1.6622e-01,  2.7629e-01,  3.5871e-01, -1.0126e-01,  2.2347e-01,\n",
      "          1.4920e-01,  2.3418e-01,  2.9835e-01, -6.3818e-01, -8.3849e-02,\n",
      "          4.9904e-01,  5.9796e-02,  4.1145e-01, -2.6090e-02, -4.4944e-01,\n",
      "          3.5163e-02, -8.4830e-03,  2.4845e-01, -7.0557e-02, -4.5293e-01,\n",
      "          1.6558e-01, -2.9991e-01, -1.0718e-02, -2.5288e-02,  3.6278e-01,\n",
      "          8.4245e-01,  1.7630e-01,  3.4045e-01, -3.4490e-01,  5.4748e-01,\n",
      "         -1.6706e-01,  7.3173e-03,  7.0943e-02,  8.9544e-03, -4.5471e-03,\n",
      "          7.8300e-02, -1.0854e-01, -3.8980e-01, -2.2141e-02, -5.4855e-02,\n",
      "         -6.1579e-02,  5.9823e-02, -8.8532e-03,  1.0173e-02, -2.2166e-01,\n",
      "         -3.0068e-01, -1.6547e-01,  6.3119e-01,  6.6469e-02,  2.3135e-01,\n",
      "         -3.2283e-01,  1.4132e-02,  1.3430e-02,  4.6345e-01,  3.7452e-02,\n",
      "          2.1293e-01, -1.3396e-01,  3.0414e-01,  4.5700e-04, -2.6978e-01,\n",
      "         -6.4261e-02, -6.6791e-01,  2.0261e-01, -1.7153e-01,  4.4014e-01,\n",
      "          1.1800e-02, -2.0405e-01, -7.1314e-01,  4.0895e-03,  3.9671e-01,\n",
      "          2.3046e-01,  2.2947e-01,  3.3616e-01,  2.4646e-01,  1.3888e-01,\n",
      "         -2.6441e-01, -3.5656e-01,  1.5965e-01,  9.9005e-02,  9.9819e-02,\n",
      "         -1.5671e-02, -3.5972e-01,  5.6910e-02,  3.8108e-01,  1.7959e-01,\n",
      "         -2.0752e-01, -2.3046e-01, -1.2353e-01, -1.3350e-01,  2.4013e-02,\n",
      "         -4.2115e-01, -1.8459e-01,  3.4175e-01,  3.0853e-01, -5.4672e-02,\n",
      "         -3.6435e-02,  7.3903e-02,  1.6018e-01, -7.3301e-02,  5.6965e-01,\n",
      "         -3.4155e-01, -8.5612e-01, -7.8647e-01, -4.2172e-02,  4.1301e-01,\n",
      "         -6.3375e-01,  2.6497e-01,  1.2658e-01,  1.4632e-01,  5.2795e-02,\n",
      "         -1.6771e-01,  1.6872e-01,  9.6629e-02, -6.7972e-02, -1.1823e-01,\n",
      "          5.8824e-01, -3.7234e-01,  4.4453e-01,  2.1753e-01, -5.6323e-01,\n",
      "         -6.2250e-02,  1.4026e-01,  2.5293e-01,  2.9775e-01,  1.4778e-01,\n",
      "          1.4068e-01, -1.5183e-01, -1.5129e-01, -7.7589e-01, -2.6730e-01,\n",
      "         -1.5495e-02,  3.0476e-01, -4.4396e-01, -6.1584e-01, -5.5218e-01,\n",
      "         -5.2859e-02, -3.1002e-01, -4.0063e-01,  1.7496e-01,  3.3215e-01,\n",
      "          1.7030e-01,  1.1588e-01,  5.5403e-02,  7.6122e-01, -5.3474e-01,\n",
      "         -1.4469e-01,  4.2805e-01, -2.2607e-01, -2.1287e-01, -5.6127e-01,\n",
      "         -1.6012e-01,  4.1120e-03,  3.2774e-01, -1.4325e-01, -3.8732e-02,\n",
      "          9.7162e-01,  2.7113e-02,  6.6549e-02, -3.8638e-01,  1.8259e-01,\n",
      "         -4.8021e-01, -5.0573e-01,  1.2129e-01, -9.2765e-01, -1.3170e-01,\n",
      "          1.9804e-01, -2.7308e-01, -2.4696e-01, -4.8446e-01,  1.3503e-01,\n",
      "         -6.8295e-02, -1.5855e-01,  1.3232e-01, -2.2723e-02, -2.1053e-01,\n",
      "         -4.9042e-02,  1.4162e-01,  2.7638e-01, -4.0829e-01,  4.2890e-02,\n",
      "          4.5369e-02, -1.5871e-01, -1.7859e-01, -1.6530e-01,  2.3627e-01,\n",
      "         -7.8082e-01, -3.0914e-02, -2.6395e-01,  3.5171e-01,  1.0139e+00,\n",
      "         -7.1577e-02, -3.4069e-01,  3.1629e-01, -1.6573e-01, -3.2459e-02,\n",
      "          2.5777e-01, -1.9410e-01,  5.0951e-01,  4.4777e-02, -7.6943e-03,\n",
      "          1.2687e-01,  4.5491e-02,  5.8372e-01, -2.1432e-02,  2.3369e-01,\n",
      "         -1.9479e-03, -2.4761e-01,  3.8967e-02, -3.3743e-01,  2.3566e-01,\n",
      "          3.5594e-01,  2.3296e-02,  5.7219e-02,  2.3045e-01, -1.8263e-01,\n",
      "          6.6762e-02, -8.2095e-02,  3.0581e-01, -5.3932e-01, -1.9063e-01,\n",
      "          8.2752e-02,  7.5253e-01, -4.8636e-01,  5.2328e-02,  4.2219e-01,\n",
      "         -6.6447e-01, -4.1197e-01,  3.6227e-01, -1.7166e-03, -3.7080e-01,\n",
      "          5.8569e-02,  1.8212e-01,  1.5066e-01,  5.8318e-01, -2.8589e-01,\n",
      "         -3.4866e-01,  2.9764e-01,  2.2861e-01,  3.2405e-01,  3.0941e-01,\n",
      "         -4.1477e-01,  4.7419e-01, -2.1898e-01, -3.6385e-01,  1.7688e-01,\n",
      "          5.4496e-01,  2.0938e-01,  4.9518e-01,  2.0853e-01,  1.7279e-01,\n",
      "          3.0388e-01,  4.0521e-01, -2.7925e-01,  2.5411e-01, -4.6937e-02,\n",
      "         -1.2514e-01,  4.6621e-01,  8.4957e-02, -6.5450e-02,  9.3740e-02,\n",
      "         -1.5614e-01, -3.3816e-01,  5.0624e-01, -2.6871e-01,  6.4063e-02,\n",
      "          1.2895e-01,  5.4488e-01, -6.3117e-01,  1.1260e-01,  1.4322e-01,\n",
      "         -7.0061e-03, -6.6109e-01,  5.1791e-01,  3.2403e-01, -1.2092e-01,\n",
      "          3.4728e-01, -3.0572e-01, -2.4099e-01,  9.5735e-02,  2.8987e-02,\n",
      "         -2.0460e-01, -1.7730e-01, -6.7806e-02,  5.3020e-01, -4.4035e-01,\n",
      "         -4.3117e-01, -1.9076e-01, -7.8112e-02,  2.1323e-02,  3.6470e-01,\n",
      "         -5.9615e-01, -4.7912e-02,  3.4927e-01, -1.4851e-01, -1.6460e-01,\n",
      "         -5.0337e-02,  3.6974e-01, -3.9202e-01,  1.5259e-01, -2.8096e-01,\n",
      "          1.0336e-01, -1.5499e-01,  3.0415e-02, -3.0554e-01,  1.7787e-01,\n",
      "          2.5738e-02,  1.8269e-01,  1.4650e-01,  8.6821e-01, -2.3381e-01,\n",
      "         -2.5370e-01,  1.2657e-01, -4.1267e-02,  4.4999e-02,  1.4867e-01,\n",
      "          7.4976e-02, -2.0876e-01, -2.2114e-01, -1.9113e-01,  2.7600e-01,\n",
      "         -1.0073e+00,  1.7322e-01, -2.9033e-01, -7.6221e-02,  1.4172e-01,\n",
      "          4.0926e-02, -1.5639e-01,  1.4117e-01, -1.6795e-01, -4.5422e-02,\n",
      "         -2.7775e-01,  1.7716e-01, -3.6398e-01,  3.6095e-01,  9.6544e-02,\n",
      "          2.3250e-01, -3.6441e-01,  9.7898e-02, -6.0278e-02,  4.6606e-01,\n",
      "          3.2729e-02,  9.3946e-02,  4.2715e-02, -3.1827e-01,  9.2330e-02,\n",
      "          2.0776e-02, -4.6721e-02, -4.0667e-01,  5.0632e-01,  7.9851e-02,\n",
      "          5.5314e-02, -2.0643e-01, -1.8331e+00, -2.0792e-01, -1.9896e-01,\n",
      "         -1.3355e-02,  2.3254e-01, -5.6108e-01,  1.4717e-02,  5.3858e-02,\n",
      "          2.8444e-02, -4.6887e-01,  1.1575e-01, -2.7166e-01, -2.2144e-02,\n",
      "         -1.4970e-01,  3.3084e-01, -1.8832e-01]])\n"
     ]
    }
   ],
   "source": [
    "text = \"Transformers are amazing!\"\n",
    "inputs = tokenizer(text, return_tensors=\"pt\")\n",
    "with torch.no_grad():\n",
    "    outputs = model(**inputs)\n",
    "    embeddings = outputs.last_hidden_state.mean(dim=1)\n",
    "print(embeddings)"
   ]
  },
  {
   "cell_type": "code",
   "execution_count": null,
   "id": "9ff2e0d5-5bdd-4db1-939e-40a7958a4fd4",
   "metadata": {},
   "outputs": [],
   "source": []
  },
  {
   "cell_type": "code",
   "execution_count": null,
   "id": "1943f44b-7790-4c23-8d01-dbfbbc40a7dc",
   "metadata": {},
   "outputs": [],
   "source": []
  }
 ],
 "metadata": {
  "kernelspec": {
   "display_name": "Python 3 (ipykernel)",
   "language": "python",
   "name": "python3"
  },
  "language_info": {
   "codemirror_mode": {
    "name": "ipython",
    "version": 3
   },
   "file_extension": ".py",
   "mimetype": "text/x-python",
   "name": "python",
   "nbconvert_exporter": "python",
   "pygments_lexer": "ipython3",
   "version": "3.11.9"
  }
 },
 "nbformat": 4,
 "nbformat_minor": 5
}
