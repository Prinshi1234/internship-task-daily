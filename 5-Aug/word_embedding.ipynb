{
 "cells": [
  {
   "cell_type": "code",
   "execution_count": 72,
   "id": "943c8e3e-11ee-40f1-b7bc-ae9b761ea9d5",
   "metadata": {},
   "outputs": [],
   "source": [
    "from tensorflow import keras\n",
    "import numpy as np"
   ]
  },
  {
   "cell_type": "code",
   "execution_count": 73,
   "id": "23e77b74-8415-4f05-97c1-3c5cc27746f5",
   "metadata": {},
   "outputs": [],
   "source": [
    "data= [\n",
    "  'good product',\n",
    "    'loved it',\n",
    "    'highly recommended',\n",
    "    'will buy again',\n",
    "    'horrible',\n",
    "    'do not buy',\n",
    "    'poor quality'\n",
    "]\n",
    "values= np.array([1,1,1,1,0,0,0,0])"
   ]
  },
  {
   "cell_type": "code",
   "execution_count": 74,
   "id": "f229c876-54a0-4810-ba05-f255a8811c66",
   "metadata": {},
   "outputs": [],
   "source": [
    "from tensorflow.keras.preprocessing.text import one_hot"
   ]
  },
  {
   "cell_type": "code",
   "execution_count": 75,
   "id": "45346d73-1a71-4361-bb55-26d54bce7fde",
   "metadata": {},
   "outputs": [
    {
     "data": {
      "text/plain": [
       "[39, 54]"
      ]
     },
     "execution_count": 75,
     "metadata": {},
     "output_type": "execute_result"
    }
   ],
   "source": [
    "one_hot('good product', 150)"
   ]
  },
  {
   "cell_type": "code",
   "execution_count": 76,
   "id": "a96e0dea-eabf-4f4a-b242-2a53ea05ef92",
   "metadata": {},
   "outputs": [
    {
     "data": {
      "text/plain": [
       "[35, 108, 120]"
      ]
     },
     "execution_count": 76,
     "metadata": {},
     "output_type": "execute_result"
    }
   ],
   "source": [
    "one_hot('do not buy', 150)"
   ]
  },
  {
   "cell_type": "code",
   "execution_count": 77,
   "id": "1e6e444c-a5e8-4cc6-a25e-83fdd8e4a53b",
   "metadata": {},
   "outputs": [
    {
     "data": {
      "text/plain": [
       "[70, 120]"
      ]
     },
     "execution_count": 77,
     "metadata": {},
     "output_type": "execute_result"
    }
   ],
   "source": [
    "one_hot('highly recommended', 150)"
   ]
  },
  {
   "cell_type": "code",
   "execution_count": 78,
   "id": "67787d02-21ab-4552-b98d-2b6e727130c6",
   "metadata": {},
   "outputs": [],
   "source": [
    "vocab_size = 150\n",
    "# a = one_hot('not good',150)"
   ]
  },
  {
   "cell_type": "code",
   "execution_count": 79,
   "id": "f6c4a166-3457-4395-9a84-ff4cc94f3ef8",
   "metadata": {},
   "outputs": [
    {
     "name": "stdout",
     "output_type": "stream",
     "text": [
      "good product\n",
      "loved it\n",
      "highly recommended\n",
      "will buy again\n",
      "horrible\n",
      "do not buy\n",
      "poor quality\n"
     ]
    }
   ],
   "source": [
    "for d in data:\n",
    "    print(d)"
   ]
  },
  {
   "cell_type": "code",
   "execution_count": 80,
   "id": "12957db5-255d-41e1-a9e1-be6dc185609c",
   "metadata": {},
   "outputs": [],
   "source": [
    "enc_r = [one_hot(d, vocab_size) for d in data]\n"
   ]
  },
  {
   "cell_type": "code",
   "execution_count": 81,
   "id": "3f08274e-9e45-48dd-adc0-40f709627afc",
   "metadata": {},
   "outputs": [
    {
     "data": {
      "text/plain": [
       "[[39, 54], [21, 48], [70, 120], [21, 120, 140], [42], [35, 108, 120], [49, 86]]"
      ]
     },
     "execution_count": 81,
     "metadata": {},
     "output_type": "execute_result"
    }
   ],
   "source": [
    "enc_r"
   ]
  },
  {
   "cell_type": "code",
   "execution_count": 82,
   "id": "af0d5b66-5871-47ef-aa30-80e8f2c2ac54",
   "metadata": {},
   "outputs": [],
   "source": [
    "from tensorflow.keras.utils import pad_sequences\n",
    "r_length = 7\n",
    "enc_r1 = pad_sequences(enc_r, maxlen = r_length, padding='post')"
   ]
  },
  {
   "cell_type": "code",
   "execution_count": 83,
   "id": "de34c6f9-f406-4146-9d09-c91b405a2535",
   "metadata": {},
   "outputs": [
    {
     "data": {
      "text/plain": [
       "array([[ 39,  54,   0,   0,   0,   0,   0],\n",
       "       [ 21,  48,   0,   0,   0,   0,   0],\n",
       "       [ 70, 120,   0,   0,   0,   0,   0],\n",
       "       [ 21, 120, 140,   0,   0,   0,   0],\n",
       "       [ 42,   0,   0,   0,   0,   0,   0],\n",
       "       [ 35, 108, 120,   0,   0,   0,   0],\n",
       "       [ 49,  86,   0,   0,   0,   0,   0]])"
      ]
     },
     "execution_count": 83,
     "metadata": {},
     "output_type": "execute_result"
    }
   ],
   "source": [
    "enc_r1"
   ]
  },
  {
   "cell_type": "code",
   "execution_count": 84,
   "id": "679f97d2-e839-435f-8053-4d61e69cd044",
   "metadata": {},
   "outputs": [],
   "source": [
    "from tensorflow.keras.models import Sequential\n",
    "from tensorflow.keras.layers import Dense,Flatten,Embedding\n",
    "v_size = r_length\n",
    "model = Sequential()\n",
    "model.add(Embedding(vocab_size, v_size,input_length=r_length, name='embedding'))\n",
    "model.add(Flatten())\n",
    "model.add(Dense(1, activation = 'sigmoid'))"
   ]
  },
  {
   "cell_type": "code",
   "execution_count": 85,
   "id": "83b03d8b-42f3-4fcf-8746-bec0d707665d",
   "metadata": {},
   "outputs": [
    {
     "data": {
      "text/html": [
       "<pre style=\"white-space:pre;overflow-x:auto;line-height:normal;font-family:Menlo,'DejaVu Sans Mono',consolas,'Courier New',monospace\"><span style=\"font-weight: bold\">Model: \"sequential_3\"</span>\n",
       "</pre>\n"
      ],
      "text/plain": [
       "\u001b[1mModel: \"sequential_3\"\u001b[0m\n"
      ]
     },
     "metadata": {},
     "output_type": "display_data"
    },
    {
     "data": {
      "text/html": [
       "<pre style=\"white-space:pre;overflow-x:auto;line-height:normal;font-family:Menlo,'DejaVu Sans Mono',consolas,'Courier New',monospace\">┏━━━━━━━━━━━━━━━━━━━━━━━━━━━━━━━━━━━━━━┳━━━━━━━━━━━━━━━━━━━━━━━━━━━━━┳━━━━━━━━━━━━━━━━━┓\n",
       "┃<span style=\"font-weight: bold\"> Layer (type)                         </span>┃<span style=\"font-weight: bold\"> Output Shape                </span>┃<span style=\"font-weight: bold\">         Param # </span>┃\n",
       "┡━━━━━━━━━━━━━━━━━━━━━━━━━━━━━━━━━━━━━━╇━━━━━━━━━━━━━━━━━━━━━━━━━━━━━╇━━━━━━━━━━━━━━━━━┩\n",
       "│ embedding (<span style=\"color: #0087ff; text-decoration-color: #0087ff\">Embedding</span>)                │ ?                           │     <span style=\"color: #00af00; text-decoration-color: #00af00\">0</span> (unbuilt) │\n",
       "├──────────────────────────────────────┼─────────────────────────────┼─────────────────┤\n",
       "│ flatten_3 (<span style=\"color: #0087ff; text-decoration-color: #0087ff\">Flatten</span>)                  │ ?                           │     <span style=\"color: #00af00; text-decoration-color: #00af00\">0</span> (unbuilt) │\n",
       "├──────────────────────────────────────┼─────────────────────────────┼─────────────────┤\n",
       "│ dense_3 (<span style=\"color: #0087ff; text-decoration-color: #0087ff\">Dense</span>)                      │ ?                           │     <span style=\"color: #00af00; text-decoration-color: #00af00\">0</span> (unbuilt) │\n",
       "└──────────────────────────────────────┴─────────────────────────────┴─────────────────┘\n",
       "</pre>\n"
      ],
      "text/plain": [
       "┏━━━━━━━━━━━━━━━━━━━━━━━━━━━━━━━━━━━━━━┳━━━━━━━━━━━━━━━━━━━━━━━━━━━━━┳━━━━━━━━━━━━━━━━━┓\n",
       "┃\u001b[1m \u001b[0m\u001b[1mLayer (type)                        \u001b[0m\u001b[1m \u001b[0m┃\u001b[1m \u001b[0m\u001b[1mOutput Shape               \u001b[0m\u001b[1m \u001b[0m┃\u001b[1m \u001b[0m\u001b[1m        Param #\u001b[0m\u001b[1m \u001b[0m┃\n",
       "┡━━━━━━━━━━━━━━━━━━━━━━━━━━━━━━━━━━━━━━╇━━━━━━━━━━━━━━━━━━━━━━━━━━━━━╇━━━━━━━━━━━━━━━━━┩\n",
       "│ embedding (\u001b[38;5;33mEmbedding\u001b[0m)                │ ?                           │     \u001b[38;5;34m0\u001b[0m (unbuilt) │\n",
       "├──────────────────────────────────────┼─────────────────────────────┼─────────────────┤\n",
       "│ flatten_3 (\u001b[38;5;33mFlatten\u001b[0m)                  │ ?                           │     \u001b[38;5;34m0\u001b[0m (unbuilt) │\n",
       "├──────────────────────────────────────┼─────────────────────────────┼─────────────────┤\n",
       "│ dense_3 (\u001b[38;5;33mDense\u001b[0m)                      │ ?                           │     \u001b[38;5;34m0\u001b[0m (unbuilt) │\n",
       "└──────────────────────────────────────┴─────────────────────────────┴─────────────────┘\n"
      ]
     },
     "metadata": {},
     "output_type": "display_data"
    },
    {
     "data": {
      "text/html": [
       "<pre style=\"white-space:pre;overflow-x:auto;line-height:normal;font-family:Menlo,'DejaVu Sans Mono',consolas,'Courier New',monospace\"><span style=\"font-weight: bold\"> Total params: </span><span style=\"color: #00af00; text-decoration-color: #00af00\">0</span> (0.00 B)\n",
       "</pre>\n"
      ],
      "text/plain": [
       "\u001b[1m Total params: \u001b[0m\u001b[38;5;34m0\u001b[0m (0.00 B)\n"
      ]
     },
     "metadata": {},
     "output_type": "display_data"
    },
    {
     "data": {
      "text/html": [
       "<pre style=\"white-space:pre;overflow-x:auto;line-height:normal;font-family:Menlo,'DejaVu Sans Mono',consolas,'Courier New',monospace\"><span style=\"font-weight: bold\"> Trainable params: </span><span style=\"color: #00af00; text-decoration-color: #00af00\">0</span> (0.00 B)\n",
       "</pre>\n"
      ],
      "text/plain": [
       "\u001b[1m Trainable params: \u001b[0m\u001b[38;5;34m0\u001b[0m (0.00 B)\n"
      ]
     },
     "metadata": {},
     "output_type": "display_data"
    },
    {
     "data": {
      "text/html": [
       "<pre style=\"white-space:pre;overflow-x:auto;line-height:normal;font-family:Menlo,'DejaVu Sans Mono',consolas,'Courier New',monospace\"><span style=\"font-weight: bold\"> Non-trainable params: </span><span style=\"color: #00af00; text-decoration-color: #00af00\">0</span> (0.00 B)\n",
       "</pre>\n"
      ],
      "text/plain": [
       "\u001b[1m Non-trainable params: \u001b[0m\u001b[38;5;34m0\u001b[0m (0.00 B)\n"
      ]
     },
     "metadata": {},
     "output_type": "display_data"
    }
   ],
   "source": [
    "model.summary()"
   ]
  },
  {
   "cell_type": "code",
   "execution_count": 86,
   "id": "512cce80-02a6-439f-8ef7-c507ed9c02f7",
   "metadata": {},
   "outputs": [],
   "source": [
    "x = enc_r1\n",
    "y = values"
   ]
  },
  {
   "cell_type": "code",
   "execution_count": 87,
   "id": "23df8f06-8869-4bfc-81cb-be4d4ea436f5",
   "metadata": {},
   "outputs": [],
   "source": [
    "model.compile(optimizer= 'adam', loss = 'binary_crossentropy',metrics=['accuracy'])"
   ]
  },
  {
   "cell_type": "code",
   "execution_count": 88,
   "id": "d81b59ed-9dca-42da-af1b-39a934af72e0",
   "metadata": {},
   "outputs": [],
   "source": [
    "min_samples = min(len(enc_r1), len(values))\n",
    "enc_r1 = enc_r1[:min_samples]\n",
    "values = values[:min_samples]\n",
    "\n"
   ]
  },
  {
   "cell_type": "code",
   "execution_count": 89,
   "id": "9d3d186a-999f-4204-a1c0-6ec4f1d5c3dd",
   "metadata": {
    "scrolled": true
   },
   "outputs": [
    {
     "name": "stdout",
     "output_type": "stream",
     "text": [
      "Epoch 1/5\n",
      "\u001b[1m1/1\u001b[0m \u001b[32m━━━━━━━━━━━━━━━━━━━━\u001b[0m\u001b[37m\u001b[0m \u001b[1m1s\u001b[0m 719ms/step - accuracy: 0.1429 - loss: 0.7000\n",
      "Epoch 2/5\n",
      "\u001b[1m1/1\u001b[0m \u001b[32m━━━━━━━━━━━━━━━━━━━━\u001b[0m\u001b[37m\u001b[0m \u001b[1m0s\u001b[0m 26ms/step - accuracy: 0.2857 - loss: 0.6985\n",
      "Epoch 3/5\n",
      "\u001b[1m1/1\u001b[0m \u001b[32m━━━━━━━━━━━━━━━━━━━━\u001b[0m\u001b[37m\u001b[0m \u001b[1m0s\u001b[0m 26ms/step - accuracy: 0.2857 - loss: 0.6970\n",
      "Epoch 4/5\n",
      "\u001b[1m1/1\u001b[0m \u001b[32m━━━━━━━━━━━━━━━━━━━━\u001b[0m\u001b[37m\u001b[0m \u001b[1m0s\u001b[0m 29ms/step - accuracy: 0.2857 - loss: 0.6954\n",
      "Epoch 5/5\n",
      "\u001b[1m1/1\u001b[0m \u001b[32m━━━━━━━━━━━━━━━━━━━━\u001b[0m\u001b[37m\u001b[0m \u001b[1m0s\u001b[0m 25ms/step - accuracy: 0.4286 - loss: 0.6939\n"
     ]
    },
    {
     "data": {
      "text/plain": [
       "<keras.src.callbacks.history.History at 0x21f94b385d0>"
      ]
     },
     "execution_count": 89,
     "metadata": {},
     "output_type": "execute_result"
    }
   ],
   "source": [
    "model.fit(enc_r1, values, epochs=5)"
   ]
  },
  {
   "cell_type": "code",
   "execution_count": 92,
   "id": "ab28641c-f815-416a-984a-295fd1c14a04",
   "metadata": {},
   "outputs": [],
   "source": [
    "min_samples = min(len(x), len(y))\n",
    "x = x[:min_samples]\n",
    "y = y[:min_samples]\n"
   ]
  },
  {
   "cell_type": "code",
   "execution_count": 93,
   "id": "556907c4-caba-4236-b5d2-67bbcf04c740",
   "metadata": {},
   "outputs": [
    {
     "name": "stdout",
     "output_type": "stream",
     "text": [
      "\u001b[1m1/1\u001b[0m \u001b[32m━━━━━━━━━━━━━━━━━━━━\u001b[0m\u001b[37m\u001b[0m \u001b[1m0s\u001b[0m 279ms/step - accuracy: 0.5714 - loss: 0.6925\n"
     ]
    },
    {
     "data": {
      "text/plain": [
       "[0.6924504041671753, 0.5714285969734192]"
      ]
     },
     "execution_count": 93,
     "metadata": {},
     "output_type": "execute_result"
    }
   ],
   "source": [
    "model.evaluate(x,y)"
   ]
  },
  {
   "cell_type": "code",
   "execution_count": 97,
   "id": "34f550c9-48ef-4b18-b29c-9c1239d95762",
   "metadata": {},
   "outputs": [],
   "source": [
    "w = model.get_layer('embedding').get_weights()[0][0]"
   ]
  },
  {
   "cell_type": "code",
   "execution_count": 98,
   "id": "36ff266c-59ad-4fdc-94b5-cfb3e70ac2c9",
   "metadata": {},
   "outputs": [],
   "source": [
    "# model.predict('not good')"
   ]
  },
  {
   "cell_type": "code",
   "execution_count": 99,
   "id": "9474c15f-2433-4b20-bb8e-7c09a75e048f",
   "metadata": {},
   "outputs": [
    {
     "data": {
      "text/plain": [
       "array([-0.01518094,  0.04473649,  0.03114073,  0.04042124,  0.03948441,\n",
       "       -0.03073512, -0.0030399 ], dtype=float32)"
      ]
     },
     "execution_count": 99,
     "metadata": {},
     "output_type": "execute_result"
    }
   ],
   "source": [
    "w"
   ]
  },
  {
   "cell_type": "code",
   "execution_count": null,
   "id": "69c274c4-6f0e-4d82-bd17-6d97ed48231c",
   "metadata": {},
   "outputs": [],
   "source": []
  }
 ],
 "metadata": {
  "kernelspec": {
   "display_name": "Python 3 (ipykernel)",
   "language": "python",
   "name": "python3"
  },
  "language_info": {
   "codemirror_mode": {
    "name": "ipython",
    "version": 3
   },
   "file_extension": ".py",
   "mimetype": "text/x-python",
   "name": "python",
   "nbconvert_exporter": "python",
   "pygments_lexer": "ipython3",
   "version": "3.11.9"
  }
 },
 "nbformat": 4,
 "nbformat_minor": 5
}
